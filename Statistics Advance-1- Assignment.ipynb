{
 "cells": [
  {
   "cell_type": "markdown",
   "id": "3fdb208f",
   "metadata": {},
   "source": [
    "# Q1. What is the Probability density function?"
   ]
  },
  {
   "cell_type": "markdown",
   "id": "36aa1d78",
   "metadata": {},
   "source": [
    "# `The Probability Density Function(PDF) defines the probability function representing the density of a continuous random variable lying between a specific range of values. In other words, the probability density function produces the likelihood of values of the continuous random variable.`\n"
   ]
  },
  {
   "cell_type": "code",
   "execution_count": null,
   "id": "ae8f1910",
   "metadata": {},
   "outputs": [],
   "source": []
  },
  {
   "cell_type": "markdown",
   "id": "a889dc40",
   "metadata": {},
   "source": [
    "# Q2. What are the types of Probability distribution?"
   ]
  },
  {
   "cell_type": "markdown",
   "id": "3a10fde1",
   "metadata": {},
   "source": [
    "There are six types of Probability Distribution:-\n",
    "\n",
    "a. Normal/Gaussian Distribution:-It is characterized by a bell-shaped curve and is symmetrical around its mean. Many natural phenomena, such as heights and IQ scores, follow a normal distribution.\n",
    "\n",
    "\n",
    "b. Bernoulii Distribution:- The Bernoulli distribution represents a binary random variable with two possible outcomes (usually labeled as 0 and 1) and a fixed probability of success, denoted as p.\n",
    "\n",
    "c. Uniform Distribution:-In a uniform distribution, all outcomes within a given range are equally likely. The probability density function (PDF) is constant over the entire range\n",
    "\n",
    "d. Poisson Distribution:-The Poisson distribution describes the number of events occurring in a fixed interval of time or space when the events are rare but have a known average rate.\n",
    "\n",
    "e. Log Normal Distribution:-The log-normal distribution is a right skewed continuous probability distribution, meaning it has a long tail towards the right. It is used for modelling various natural phenomena such as income distributions, the length of chess games or the time to repair a maintainable system and more.\n",
    "\n",
    "f. Binomial Distribution:- The binomial distribution is used when there are two possible outcomes (success or failure) in each of a fixed number of independent trials. It's commonly used in situations involving binary decisions, like coin flips or pass/fail scenarios."
   ]
  },
  {
   "cell_type": "code",
   "execution_count": null,
   "id": "13538bf9",
   "metadata": {},
   "outputs": [],
   "source": []
  },
  {
   "cell_type": "markdown",
   "id": "336e1bfd",
   "metadata": {},
   "source": [
    "# Q3. Write a Python function to calculate the probability density function of a normal distribution with given mean and standard deviation at a given point."
   ]
  },
  {
   "cell_type": "code",
   "execution_count": 26,
   "id": "c3a26e43",
   "metadata": {},
   "outputs": [
    {
     "name": "stdout",
     "output_type": "stream",
     "text": [
      "PDF at x = 1.8: 0.7365402806066468\n",
      "PDF at x = 2.0: 0.7978845608028654\n",
      "PDF at x = 2.2: 0.7365402806066466\n"
     ]
    }
   ],
   "source": [
    "mean = 2.0\n",
    "std_dev = 0.5\n",
    "\n",
    "# Calculate the PDF at various points\n",
    "x_values = [1.8, 2.0, 2.2]\n",
    "for x in x_values:\n",
    "#     pdf = (1 / (math.sqrt(2 * math.pi * std_dev**2))) * math.exp(-(x - mean)**2 / (2 * std_dev**2))\n",
    "    pdf = (1 / (std_dev * math.sqrt(2 * math.pi))) * math.exp(-((x - mean) ** 2) / (2 * std_dev ** 2))\n",
    "    print(f\"PDF at x = {x}: {pdf}\")\n",
    "\n",
    "    \n",
    "    \"\"\"Calculate the probability density function (PDF) of a normal distribution\n",
    "    at a given point x.\n",
    "\n",
    "   \n",
    "    - x: The point at which to calculate the PDF.\n",
    "    - mean: The mean (\\mu) of the normal distribution.\n",
    "    - std_dev: The standard deviation (\\sigma) of the normal distribution.\"\"\"\n"
   ]
  },
  {
   "cell_type": "code",
   "execution_count": null,
   "id": "0f67d984",
   "metadata": {},
   "outputs": [],
   "source": []
  },
  {
   "cell_type": "markdown",
   "id": "e8ad6d6f",
   "metadata": {},
   "source": [
    "# Q4. What are the properties of Binomial distribution? Give two examples of events where binomial distribution can be applied."
   ]
  },
  {
   "cell_type": "markdown",
   "id": "3c86870b",
   "metadata": {},
   "source": [
    "# the binomial distribution is the discrete probability distribution that gives only two possible results in an experiment, either Success or Failure. For example, if we toss a coin, there could be only two possible outcomes: heads or tails, and if any test is taken, then there could be only two results: pass or fail. This distribution is also called a binomial probability distribution.\n",
    "\n",
    "\n",
    "\n",
    "### `examples of events where the binomial distribution can be applied are:`\n",
    "\n",
    "\n",
    "### The number of votes collected by a candidate in an election is counted based on 0 or 1 probability.\n",
    "\n",
    "### By using the YES/ NO survey, we can check whether the number of persons views the particular channel."
   ]
  },
  {
   "cell_type": "code",
   "execution_count": null,
   "id": "f9b99437",
   "metadata": {},
   "outputs": [],
   "source": []
  },
  {
   "cell_type": "markdown",
   "id": "a2bcf130",
   "metadata": {},
   "source": [
    "# Q5. Generate a random sample of size 1000 from a binomial distribution with probability of success 0.4 and plot a histogram of the results using matplotlib."
   ]
  },
  {
   "cell_type": "code",
   "execution_count": 92,
   "id": "c85f5d39",
   "metadata": {},
   "outputs": [
    {
     "data": {
      "image/png": "[encoded data removed]",
      "text/plain": [
       "<Figure size 640x480 with 1 Axes>"
      ]
     },
     "metadata": {},
     "output_type": "display_data"
    }
   ],
   "source": [
    "import numpy as np\n",
    "import matplotlib.pyplot as plt\n",
    "\n",
    "\n",
    "sample_of_size = 1000\n",
    "probability_of_success = 0.4\n",
    "\n",
    "random_sample = np.random.binomial(1,probability_of_success,sample_of_size)\n",
    "\n",
    "\n",
    "plt.hist(random_sample, bins=2,edgecolor='black')\n",
    "plt.title(f'Binomial Distribution with p={probability_of_success}, n={sample_of_size}')\n",
    "plt.xlabel('Number of Successes')\n",
    "plt.ylabel('Frequency')\n",
    "# plt.xticks([0, 1])  # Setting the x-axis ticks to show 0 and 1\n",
    "plt.show()\n"
   ]
  },
  {
   "cell_type": "code",
   "execution_count": null,
   "id": "c506d49b",
   "metadata": {},
   "outputs": [],
   "source": []
  },
  {
   "cell_type": "markdown",
   "id": "a8057250",
   "metadata": {},
   "source": [
    "# Q6. Write a Python function to calculate the cumulative distribution function of a Poisson distribution with given mean at a given point."
   ]
  },
  {
   "cell_type": "code",
   "execution_count": 120,
   "id": "a49297b2",
   "metadata": {},
   "outputs": [
    {
     "name": "stdout",
     "output_type": "stream",
     "text": [
      "CDF at x = 2: 0.049787068367863944\n"
     ]
    }
   ],
   "source": [
    "import math\n",
    "\n",
    "def poisson_cdf(x, mean):\n",
    "    \n",
    "    \n",
    "    \n",
    "    if x < 0:\n",
    "        return 0.0  # CDF is 0 for negative values in a Poisson distribution\n",
    "\n",
    "    cdf_value = 0.0\n",
    "    for i in range(0,  + 1):\n",
    "        cdf_value += (math.exp(-mean) * mean**i) / math.factorial(i)\n",
    "\n",
    "    return cdf_value\n",
    "\n",
    "# Example usage:\n",
    "mean = 3.0\n",
    "x = 2\n",
    "cdf = poisson_cdf(x, mean)\n",
    "print(f\"CDF at x = {x}: {cdf}\")\n"
   ]
  },
  {
   "cell_type": "code",
   "execution_count": null,
   "id": "14d760e6",
   "metadata": {},
   "outputs": [],
   "source": []
  },
  {
   "cell_type": "markdown",
   "id": "89758466",
   "metadata": {},
   "source": [
    "# Q7. How Binomial distribution different from Poisson distribution?"
   ]
  },
  {
   "cell_type": "markdown",
   "id": "c8ca9bcd",
   "metadata": {},
   "source": [
    "`The Binomial and Poisson distributions are both probability distributions used to model the number of events or successes in a series of trials or events. However, they are different in terms of their characteristics, assumptions, and use cases.`"
   ]
  },
  {
   "cell_type": "raw",
   "id": "948dd92b",
   "metadata": {},
   "source": [
    "In the Binomial distribution, each trial is binary, meaning it has only two possible outcomes: success and failure.\n",
    "\n",
    "In the Poisson distribution, each event or trial is rare and infrequent, and the probability of success in a single trial is small.\n",
    "\n",
    "In a Binomial distribution, there is a fixed number of trials (e.g. flip a coin 3 times)\n",
    "\n",
    "In a Poisson distribution, there could be any number of events that occur during a certain time interval (e.g. how many customers will arrive at a store in a given hour?)\n",
    "\n",
    "In Binomial Distribution Mean is grater than Variance\n",
    "\n",
    "In Poisson Distribution Mean is Equal to Variance.\n",
    "\n",
    "\n"
   ]
  },
  {
   "cell_type": "code",
   "execution_count": null,
   "id": "bf3b816f",
   "metadata": {},
   "outputs": [],
   "source": []
  },
  {
   "cell_type": "markdown",
   "id": "3fa5d042",
   "metadata": {},
   "source": [
    "# Q8. Generate a random sample of size 1000 from a Poisson distribution with mean 5 and calculate the sample mean and variance."
   ]
  },
  {
   "cell_type": "code",
   "execution_count": 133,
   "id": "d441c5af",
   "metadata": {},
   "outputs": [
    {
     "name": "stdout",
     "output_type": "stream",
     "text": [
      "Sample Mean of Poisson Distribution:5.029\n",
      "Sample Variance of Poisson Distribution:4.830159000000001\n"
     ]
    }
   ],
   "source": [
    "import numpy as np\n",
    "\n",
    "mean = 5\n",
    "sample_size = 1000\n",
    "\n",
    "# Generate a random sample from a Poisson distribution\n",
    "random_sample= np.random.poisson(mean,sample_size)\n",
    "\n",
    "#calculate the sample mean and variance\n",
    "sample_mean = np.mean(random_sample)\n",
    "sample_variance = np.var(random_sample)\n",
    "\n",
    "print(f\"Sample Mean of Poisson Distribution:{sample_mean}\")\n",
    "print(f\"Sample Variance of Poisson Distribution:{sample_variance}\")"
   ]
  },
  {
   "cell_type": "code",
   "execution_count": null,
   "id": "f6457ddb",
   "metadata": {},
   "outputs": [],
   "source": []
  },
  {
   "cell_type": "markdown",
   "id": "310bb5b3",
   "metadata": {},
   "source": [
    "# Q9. How mean and variance are related in Binomial distribution and Poisson distribution?"
   ]
  },
  {
   "cell_type": "markdown",
   "id": "72c4a1f9",
   "metadata": {},
   "source": [
    "In the Poisson distribution, the mean is equal to the variance. So, a Poisson distribution with a mean of 2.5 has a variance of 2.5. The mean and variance of a Poisson distribution are equal because it arises from the assumptions of a Poisson process where events occur independently and at a constant rate."
   ]
  },
  {
   "cell_type": "markdown",
   "id": "56c330a3",
   "metadata": {},
   "source": [
    "Mean (μ) of the Binomial distribution: μ=np,where where n is the number of trials and p is the probability of success in each trial.\n",
    "\n",
    "Variance (square of σ 2 )of the Binomial distribution  square of std dev= np(1−p).\n",
    "\n",
    "\n",
    "The variance in the Binomial distribution depends on both the number of trials (n) and the probability of success (p). As the number of trials or the probability of success changes, the variance can vary accordingly.\n",
    "\n",
    "\n",
    "\n",
    "\n",
    "Mean (μ) of the Poisson distribution:μ=λ, where λ is the average rate of events in the interval.\n",
    "\n",
    "\n",
    "Variance (2σ2) of the Poisson distribution: 2=σ 2=λ.\n",
    "\n",
    "\n",
    "n the Poisson distribution, the variance is equal to the mean (σ2=μ) and is solely determined by the average rate (λ) of events. Unlike the Binomial distribution, there is no parameter analogous to the probability of success that affects the variance in the Poisson distribution.\n",
    "\n",
    "\n",
    "\n",
    "\n",
    "In the Binomial distribution, the variance depends on both the number of trials and the probability of success.\n",
    "In the Poisson distribution, the variance is solely determined by the average rate of events and is equal to the mean."
   ]
  },
  {
   "cell_type": "code",
   "execution_count": null,
   "id": "40086d89",
   "metadata": {},
   "outputs": [],
   "source": []
  },
  {
   "cell_type": "markdown",
   "id": "cbba1be1",
   "metadata": {},
   "source": [
    "# Q10. In normal distribution with respect to mean position, where does the least frequent data appear?"
   ]
  },
  {
   "cell_type": "markdown",
   "id": "794297fb",
   "metadata": {},
   "source": [
    "In a normal distribution, also known as a Gaussian distribution, the least frequent data points are located in the tails of the distribution, farthest away from the mean. These tails extend infinitely in both directions from the mean.\n",
    "\n",
    "\n",
    "`The mean of a normal distribution is located at the center of the distribution. It represents the most probable value or the peak of the bell-shaped curve. In a symmetrical normal distribution, the mean is also the point of symmetry.`"
   ]
  },
  {
   "cell_type": "code",
   "execution_count": null,
   "id": "81dce267",
   "metadata": {},
   "outputs": [],
   "source": []
  }
 ],
 "metadata": {
  "kernelspec": {
   "display_name": "Python 3 (ipykernel)",
   "language": "python",
   "name": "python3"
  },
  "language_info": {
   "codemirror_mode": {
    "name": "ipython",
    "version": 3
   },
   "file_extension": ".py",
   "mimetype": "text/x-python",
   "name": "python",
   "nbconvert_exporter": "python",
   "pygments_lexer": "ipython3",
   "version": "3.9.12"
  }
 },
 "nbformat": 4,
 "nbformat_minor": 5
}
